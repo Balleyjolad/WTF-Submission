{
 "cells": [
  {
   "cell_type": "code",
   "execution_count": null,
   "id": "5cfa53fa",
   "metadata": {},
   "outputs": [],
   "source": [
    "#1) Print all elements of a list using for loop."
   ]
  },
  {
   "cell_type": "code",
   "execution_count": 4,
   "id": "db56ac89",
   "metadata": {},
   "outputs": [
    {
     "name": "stdout",
     "output_type": "stream",
     "text": [
      "2\n",
      "4\n",
      "8\n",
      "joke\n",
      "fola\n"
     ]
    }
   ],
   "source": [
    "b = [2, 4, 8,'joke', 'fola']\n",
    "for i in b:\n",
    "    print (i)"
   ]
  },
  {
   "cell_type": "code",
   "execution_count": 5,
   "id": "2283418b",
   "metadata": {},
   "outputs": [],
   "source": [
    "#2) Using range(1,101), make two list, one containing all even numbers and other containing all odd numbers."
   ]
  },
  {
   "cell_type": "code",
   "execution_count": 12,
   "id": "5062138b",
   "metadata": {},
   "outputs": [],
   "source": [
    "import numpy as np"
   ]
  },
  {
   "cell_type": "code",
   "execution_count": 13,
   "id": "fd6c448d",
   "metadata": {},
   "outputs": [
    {
     "data": {
      "text/plain": [
       "array([ 1,  3,  5,  7,  9, 11, 13, 15, 17, 19, 21, 23, 25, 27, 29, 31, 33,\n",
       "       35, 37, 39, 41, 43, 45, 47, 49, 51, 53, 55, 57, 59, 61, 63, 65, 67,\n",
       "       69, 71, 73, 75, 77, 79, 81, 83, 85, 87, 89, 91, 93, 95, 97, 99])"
      ]
     },
     "execution_count": 13,
     "metadata": {},
     "output_type": "execute_result"
    }
   ],
   "source": [
    "np.arange(1,101,2)\n"
   ]
  },
  {
   "cell_type": "code",
   "execution_count": 16,
   "id": "e397b24e",
   "metadata": {},
   "outputs": [
    {
     "data": {
      "text/plain": [
       "array([  2,   4,   6,   8,  10,  12,  14,  16,  18,  20,  22,  24,  26,\n",
       "        28,  30,  32,  34,  36,  38,  40,  42,  44,  46,  48,  50,  52,\n",
       "        54,  56,  58,  60,  62,  64,  66,  68,  70,  72,  74,  76,  78,\n",
       "        80,  82,  84,  86,  88,  90,  92,  94,  96,  98, 100])"
      ]
     },
     "execution_count": 16,
     "metadata": {},
     "output_type": "execute_result"
    }
   ],
   "source": [
    "np.arange(2,101,2)"
   ]
  },
  {
   "cell_type": "code",
   "execution_count": null,
   "id": "ef95360a",
   "metadata": {},
   "outputs": [],
   "source": [
    "#3) A company decided to give bonus of 5% to employee if his/her year of service is more than 5 years. Ask user for their \n",
    "#salary and year of service and print the net bonus amount."
   ]
  },
  {
   "cell_type": "code",
   "execution_count": 45,
   "id": "a84fffdd",
   "metadata": {
    "scrolled": true
   },
   "outputs": [
    {
     "name": "stdout",
     "output_type": "stream",
     "text": [
      "50000\n",
      "7\n",
      "my bonus is 2500.0\n"
     ]
    }
   ],
   "source": [
    "salary = int(input())\n",
    "year_of_service = int(input())\n",
    "if year_of_service > 5:\n",
    "    print ('my bonus is', salary*0.05)"
   ]
  },
  {
   "cell_type": "code",
   "execution_count": 43,
   "id": "e2c1964b",
   "metadata": {},
   "outputs": [
    {
     "name": "stdout",
     "output_type": "stream",
     "text": [
      "Enter your salary:100000\n",
      "Enter Years of service:8\n",
      "Yours salary(+Bonus) =  105000.0\n"
     ]
    }
   ],
   "source": [
    "salary = int(input(\"Enter your salary:\"))\n",
    "\n",
    "service_yrs = int(input(\"Enter Years of service:\"))\n",
    "\n",
    "if service_yrs > 5:\n",
    "\n",
    "    print(\"Yours salary(+Bonus) = \",salary + (salary)*5/100)\n",
    "\n",
    "else:\n",
    "\n",
    "     print(\"You are not eligible for bonus as you have less service years.\")"
   ]
  },
  {
   "cell_type": "code",
   "execution_count": 17,
   "id": "f897852d",
   "metadata": {},
   "outputs": [],
   "source": [
    "#4) Take input of age of 3 people by user and determine oldest and youngest among them."
   ]
  },
  {
   "cell_type": "code",
   "execution_count": 24,
   "id": "6093e24c",
   "metadata": {},
   "outputs": [
    {
     "name": "stdout",
     "output_type": "stream",
     "text": [
      "23\n"
     ]
    }
   ],
   "source": [
    "ages = [12, 23, 3]\n",
    "oldest = max(ages)\n",
    "print(oldest)"
   ]
  },
  {
   "cell_type": "code",
   "execution_count": 25,
   "id": "f05a10d9",
   "metadata": {},
   "outputs": [
    {
     "name": "stdout",
     "output_type": "stream",
     "text": [
      "3\n"
     ]
    }
   ],
   "source": [
    "ages = [12, 23, 3]\n",
    "youngest = min(ages)\n",
    "print(youngest)"
   ]
  },
  {
   "cell_type": "code",
   "execution_count": null,
   "id": "2d271b78",
   "metadata": {},
   "outputs": [],
   "source": [
    "#5) A school has following rules for grading system:"
   ]
  },
  {
   "cell_type": "code",
   "execution_count": null,
   "id": "9598a76d",
   "metadata": {},
   "outputs": [],
   "source": [
    "#6) Write a Python script to merge two Python dictionaries"
   ]
  },
  {
   "cell_type": "code",
   "execution_count": 31,
   "id": "cce4c573",
   "metadata": {},
   "outputs": [
    {
     "name": "stdout",
     "output_type": "stream",
     "text": [
      "{'Lagos': 1000, 'Ogun': 500, 'Abia': 200, 'kwara': 320, 'oyo': 540}\n"
     ]
    }
   ],
   "source": [
    "a ={'Lagos':1000, 'Ogun':500, 'Abia':200}\n",
    "t = {'kwara':320, 'oyo':540}\n",
    "a.update(t)\n",
    "print(a)\n"
   ]
  },
  {
   "cell_type": "code",
   "execution_count": null,
   "id": "db03a151",
   "metadata": {},
   "outputs": [],
   "source": [
    "#7) Write a Python program to remove a key from a dictionary."
   ]
  },
  {
   "cell_type": "code",
   "execution_count": 34,
   "id": "3c71e394",
   "metadata": {},
   "outputs": [
    {
     "name": "stdout",
     "output_type": "stream",
     "text": [
      "{'Lagos': 1000, 'Ogun': 500, 'Abia': 200, 'kwara': 320, 'oyo': 540}\n"
     ]
    }
   ],
   "source": [
    "print(a)"
   ]
  },
  {
   "cell_type": "code",
   "execution_count": 37,
   "id": "319bf173",
   "metadata": {},
   "outputs": [
    {
     "name": "stdout",
     "output_type": "stream",
     "text": [
      "{'Lagos': 1000, 'Ogun': 500, 'kwara': 320, 'oyo': 540}\n"
     ]
    }
   ],
   "source": [
    "if 'Abia' in a:\n",
    "    del a['Abia']\n",
    "print(a)"
   ]
  },
  {
   "cell_type": "code",
   "execution_count": null,
   "id": "4398d757",
   "metadata": {},
   "outputs": [],
   "source": [
    "#8) Write a Python program to get the largest number from a list"
   ]
  },
  {
   "cell_type": "code",
   "execution_count": 38,
   "id": "02ac866d",
   "metadata": {},
   "outputs": [
    {
     "data": {
      "text/plain": [
       "105"
      ]
     },
     "execution_count": 38,
     "metadata": {},
     "output_type": "execute_result"
    }
   ],
   "source": [
    "list1 = [23,33,59,100,105]\n",
    "max(list1)"
   ]
  },
  {
   "cell_type": "code",
   "execution_count": null,
   "id": "06f9a29e",
   "metadata": {},
   "outputs": [],
   "source": []
  },
  {
   "cell_type": "code",
   "execution_count": null,
   "id": "a241b849",
   "metadata": {},
   "outputs": [],
   "source": []
  }
 ],
 "metadata": {
  "kernelspec": {
   "display_name": "Python 3 (ipykernel)",
   "language": "python",
   "name": "python3"
  },
  "language_info": {
   "codemirror_mode": {
    "name": "ipython",
    "version": 3
   },
   "file_extension": ".py",
   "mimetype": "text/x-python",
   "name": "python",
   "nbconvert_exporter": "python",
   "pygments_lexer": "ipython3",
   "version": "3.9.7"
  }
 },
 "nbformat": 4,
 "nbformat_minor": 5
}
